{
 "cells": [
  {
   "cell_type": "code",
   "execution_count": 2,
   "metadata": {},
   "outputs": [
    {
     "name": "stdout",
     "output_type": "stream",
     "text": [
      "['Overall rank', 'Country or region', 'Score', 'GDP per capita', 'Social support', 'Healthy life expectancy', 'Freedom to make life choices', 'Generosity', 'Perceptions of corruption'] \n",
      "\n",
      "\n",
      "first ten elements\n",
      " [{'Overall rank': '1', 'Country or region': 'Finland', 'Score': '7.769', 'GDP per capita': '1.340', 'Social support': '1.587', 'Healthy life expectancy': '0.986', 'Freedom to make life choices': '0.596', 'Generosity': '0.153', 'Perceptions of corruption': '0.393'}, {'Overall rank': '2', 'Country or region': 'Denmark', 'Score': '7.600', 'GDP per capita': '1.383', 'Social support': '1.573', 'Healthy life expectancy': '0.996', 'Freedom to make life choices': '0.592', 'Generosity': '0.252', 'Perceptions of corruption': '0.410'}, {'Overall rank': '3', 'Country or region': 'Norway', 'Score': '7.554', 'GDP per capita': '1.488', 'Social support': '1.582', 'Healthy life expectancy': '1.028', 'Freedom to make life choices': '0.603', 'Generosity': '0.271', 'Perceptions of corruption': '0.341'}, {'Overall rank': '4', 'Country or region': 'Iceland', 'Score': '7.494', 'GDP per capita': '1.380', 'Social support': '1.624', 'Healthy life expectancy': '1.026', 'Freedom to make life choices': '0.591', 'Generosity': '0.354', 'Perceptions of corruption': '0.118'}, {'Overall rank': '5', 'Country or region': 'Netherlands', 'Score': '7.488', 'GDP per capita': '1.396', 'Social support': '1.522', 'Healthy life expectancy': '0.999', 'Freedom to make life choices': '0.557', 'Generosity': '0.322', 'Perceptions of corruption': '0.298'}, {'Overall rank': '6', 'Country or region': 'Switzerland', 'Score': '7.480', 'GDP per capita': '1.452', 'Social support': '1.526', 'Healthy life expectancy': '1.052', 'Freedom to make life choices': '0.572', 'Generosity': '0.263', 'Perceptions of corruption': '0.343'}, {'Overall rank': '7', 'Country or region': 'Sweden', 'Score': '7.343', 'GDP per capita': '1.387', 'Social support': '1.487', 'Healthy life expectancy': '1.009', 'Freedom to make life choices': '0.574', 'Generosity': '0.267', 'Perceptions of corruption': '0.373'}, {'Overall rank': '8', 'Country or region': 'New Zealand', 'Score': '7.307', 'GDP per capita': '1.303', 'Social support': '1.557', 'Healthy life expectancy': '1.026', 'Freedom to make life choices': '0.585', 'Generosity': '0.330', 'Perceptions of corruption': '0.380'}, {'Overall rank': '9', 'Country or region': 'Canada', 'Score': '7.278', 'GDP per capita': '1.365', 'Social support': '1.505', 'Healthy life expectancy': '1.039', 'Freedom to make life choices': '0.584', 'Generosity': '0.285', 'Perceptions of corruption': '0.308'}, {'Overall rank': '10', 'Country or region': 'Austria', 'Score': '7.246', 'GDP per capita': '1.376', 'Social support': '1.475', 'Healthy life expectancy': '1.016', 'Freedom to make life choices': '0.532', 'Generosity': '0.244', 'Perceptions of corruption': '0.226'}] \n",
      "\n",
      "size of the list\n",
      " 156\n"
     ]
    }
   ],
   "source": [
    "import csv\n",
    "f = open(\"happiness2019.csv\")\n",
    "data = csv.reader(f)\n",
    "categorias = next(data)\n",
    "print(categorias,'\\n\\n')\n",
    "\n",
    "felicidad = list()\n",
    "\n",
    "for lectura in data:\n",
    "    diccionario = dict()\n",
    "    for i,categoria in enumerate(categorias):\n",
    "        diccionario[categoria]= lectura[i]\n",
    "    felicidad.append(diccionario)\n",
    "    \n",
    "print('first ten elements\\n',felicidad[0:10],'\\n')\n",
    "#for fel in felicidad:\n",
    "#    print(f'Overall rank {fel[\"Overall rank\"]}')\n",
    "print('size of the list\\n',len(felicidad))"
   ]
  },
  {
   "cell_type": "code",
   "execution_count": 3,
   "metadata": {},
   "outputs": [
    {
     "name": "stdout",
     "output_type": "stream",
     "text": [
      "1 Finland 7.769     1.340 1.587 0.986    0.596 0.153 0.393\n",
      "2 Denmark 7.600     1.383 1.573 0.996    0.592 0.252 0.410\n",
      "3 Norway 7.554     1.488 1.582 1.028    0.603 0.271 0.341\n",
      "4 Iceland 7.494     1.380 1.624 1.026    0.591 0.354 0.118\n",
      "5 Netherlands 7.488     1.396 1.522 0.999    0.557 0.322 0.298\n",
      "6 Switzerland 7.480     1.452 1.526 1.052    0.572 0.263 0.343\n",
      "7 Sweden 7.343     1.387 1.487 1.009    0.574 0.267 0.373\n",
      "8 New Zealand 7.307     1.303 1.557 1.026    0.585 0.330 0.380\n",
      "9 Canada 7.278     1.365 1.505 1.039    0.584 0.285 0.308\n",
      "10 Austria 7.246     1.376 1.475 1.016    0.532 0.244 0.226\n",
      "156\n"
     ]
    }
   ],
   "source": [
    "f = open(\"happiness2019.csv\")\n",
    "data = csv.reader(f)\n",
    "\n",
    "categorias = next(data)\n",
    "\n",
    "## Crear el contenedor de información\n",
    "class feliz:\n",
    "    def __init__(self): #constructor de la clase\n",
    "       # definir los atributos de los objetos\n",
    "        self.Overall_rank=None\n",
    "        self.Country_or_region=None\n",
    "        self.Score=None\n",
    "        self.GDP_per_capita=None\n",
    "        self.Social_support=None\n",
    "        self.Healthy_life_expectancy=None\n",
    "        self.Freedom_to_make_life_choices=None\n",
    "        self.Generosity=None\n",
    "        self.Perceptions_of_corruption=None\n",
    "felicidad = list()\n",
    "for lectura in data:\n",
    "    objeto = feliz()\n",
    "    objeto.Overall_rank= lectura[0]\n",
    "    objeto.Country_or_region= lectura[1]\n",
    "    objeto.Score= lectura[2]\n",
    "    objeto.GDP_per_capita= lectura[3]\n",
    "    objeto.Social_support= lectura[4]\n",
    "    objeto.Healthy_life_expectancy= lectura[5]\n",
    "    objeto.Freedom_to_make_life_choices= lectura[6]\n",
    "    objeto.Generosity= lectura[7]\n",
    "    objeto.Perceptions_of_corruption= lectura[8]\n",
    "    felicidad.append(objeto)\n",
    "\n",
    "\n",
    "for feliz in felicidad[0:10]:\n",
    "    print(f'{feliz.Overall_rank} {feliz.Country_or_region} {feliz.Score} \\\n",
    "    {feliz.GDP_per_capita} {feliz.Social_support} {feliz.Healthy_life_expectancy}\\\n",
    "    {feliz.Freedom_to_make_life_choices} {feliz.Generosity} {feliz.Perceptions_of_corruption}')\n",
    "\n",
    "print(len(felicidad))"
   ]
  },
  {
   "cell_type": "code",
   "execution_count": 6,
   "metadata": {},
   "outputs": [
    {
     "name": "stdout",
     "output_type": "stream",
     "text": [
      "Finland 0.393\n",
      "Denmark 0.410\n",
      "Norway 0.341\n",
      "Iceland 0.118\n",
      "Netherlands 0.298\n",
      "Switzerland 0.343\n",
      "Sweden 0.373\n",
      "New Zealand 0.380\n",
      "Canada 0.308\n",
      "Austria 0.226\n",
      "156\n"
     ]
    }
   ],
   "source": [
    "f = open(\"happiness2019.csv\")\n",
    "data = csv.reader(f)\n",
    "\n",
    "categorias = next(data)\n",
    "\n",
    "## Crear el contenedor de información\n",
    "class feliz:\n",
    "    def __init__(self): #constructor de la clase\n",
    "       # definir los atributos de los objetos\n",
    "        self.Country_or_region=None\n",
    "        self.Perceptions_of_corruption=None\n",
    "        \n",
    "felicidad = list()\n",
    "for lectura in data:\n",
    "    objeto = feliz()\n",
    "    objeto.Country_or_region= lectura[1]\n",
    "    objeto.Perceptions_of_corruption= lectura[8]\n",
    "    felicidad.append(objeto)\n",
    "\n",
    "for feliz in felicidad[0:10]:\n",
    "    print(f'{feliz.Country_or_region} {feliz.Perceptions_of_corruption}')\n",
    "\n",
    "print(len(felicidad))"
   ]
  },
  {
   "cell_type": "code",
   "execution_count": 8,
   "metadata": {},
   "outputs": [
    {
     "name": "stdout",
     "output_type": "stream",
     "text": [
      "Perceptions of corruption0.118\n",
      "Perceptions of corruption0.128\n",
      "Perceptions of corruption0.182\n",
      "Perceptions of corruption0.151\n",
      "Perceptions of corruption0.183\n",
      "Perceptions of corruption0.132\n",
      "Perceptions of corruption0.167\n",
      "Perceptions of corruption0.150\n",
      "Perceptions of corruption0.110\n",
      "Perceptions of corruption0.127\n",
      "totales 156\n",
      "filtrados 40\n"
     ]
    }
   ],
   "source": [
    "\n",
    "feliz2 = list()\n",
    "for feliz in felicidad:\n",
    "       if 0.1 <= float(feliz.Perceptions_of_corruption) <= 0.2:\n",
    "        feliz2.append(feliz)\n",
    "for c in feliz2[0:10]:\n",
    "    print(f'Perceptions of corruption{c.Perceptions_of_corruption}')\n",
    "        \n",
    "print(f\"totales {len(felicidad)}\")\n",
    "print(f\"filtrados {len(feliz2)}\")"
   ]
  }
 ],
 "metadata": {
  "kernelspec": {
   "display_name": "Python 3",
   "language": "python",
   "name": "python3"
  },
  "language_info": {
   "codemirror_mode": {
    "name": "ipython",
    "version": 3
   },
   "file_extension": ".py",
   "mimetype": "text/x-python",
   "name": "python",
   "nbconvert_exporter": "python",
   "pygments_lexer": "ipython3",
   "version": "3.7.4"
  }
 },
 "nbformat": 4,
 "nbformat_minor": 2
}
