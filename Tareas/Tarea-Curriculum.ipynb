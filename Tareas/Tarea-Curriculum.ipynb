{
 "cells": [
  {
   "cell_type": "markdown",
   "metadata": {},
   "source": [
    "<h1><div style=\"text-align: Center\"> Javier Díaz Medina </div>\n",
    "\n",
    "<img src=\"fotoJavier.jpeg\" alt=\"fotoJavier\" width=\"200\"/>\n",
    "<h3><div style=\"text-align: Center\">  Estudiante de Ing. Mecatrónica </div>\n",
    "\n",
    "Un poco de mi\n",
    "--\n",
    "<div style=\"text-align: justify\">Soy una persona muy paciente y con una extrema curiosidad, por lo mismo me gusta\n",
    "mucho aprender cosas nuevas e inclusive mejorar las cosas que ya sé. No me limito\n",
    "a la comodidad, me gusta siempre buscar nuevos retos que me hagan crecer profesional\n",
    "y personalmente.</div>\n",
    "\n",
    "<div class=\"row\">\n",
    "  <div class=\"col-md-7\" markdown=\"1\"><h3>Softwares</h3>\n",
    "      <li> Matlab\n",
    "      <li> Jupyter \n",
    "      <li> Git Kraken\n",
    "      <li> Code composer\n",
    "      <li> Arduino\n",
    "      <li> Surfcam\n",
    "      <li> Solidworks\n",
    "      <li> VBA Excel\n",
    "  </div>\n",
    "  <div class=\"col-md-5\" markdown=\"1\"><h3>Lenguaje de programación</h3>\n",
    "      <li> Python\n",
    "      <li>  C++\n",
    "      <li>  C\n",
    "      <h3>Sistemas operativos</h3>\n",
    "      <li> Linux\n",
    "      <li> Windows\n",
    "      <img  width=\"100\" class=\"center-block\" src=\"linuxwindows.png\">\n",
    " \n",
    "  </div>\n",
    "</div>\n",
    "\n"
   ]
  }
 ],
 "metadata": {
  "kernelspec": {
   "display_name": "Python 3",
   "language": "python",
   "name": "python3"
  },
  "language_info": {
   "codemirror_mode": {
    "name": "ipython",
    "version": 3
   },
   "file_extension": ".py",
   "mimetype": "text/x-python",
   "name": "python",
   "nbconvert_exporter": "python",
   "pygments_lexer": "ipython3",
   "version": "3.7.4"
  }
 },
 "nbformat": 4,
 "nbformat_minor": 2
}
